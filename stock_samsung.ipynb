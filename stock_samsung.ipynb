{
 "cells": [
  {
   "cell_type": "code",
   "execution_count": 13,
   "id": "f844f456",
   "metadata": {
    "scrolled": true
   },
   "outputs": [],
   "source": [
    "import pandas as pd\n",
    "import numpy as np\n",
    "import matplotlib.pyplot as plt\n",
    "from keras.models import Sequential\n",
    "from keras.layers import LSTM, Dropout, Dense, Activation\n",
    "\n",
    "import datetime"
   ]
  },
  {
   "cell_type": "code",
   "execution_count": 14,
   "id": "c667658d",
   "metadata": {
    "scrolled": true
   },
   "outputs": [
    {
     "data": {
      "text/html": [
       "<div>\n",
       "<style scoped>\n",
       "    .dataframe tbody tr th:only-of-type {\n",
       "        vertical-align: middle;\n",
       "    }\n",
       "\n",
       "    .dataframe tbody tr th {\n",
       "        vertical-align: top;\n",
       "    }\n",
       "\n",
       "    .dataframe thead th {\n",
       "        text-align: right;\n",
       "    }\n",
       "</style>\n",
       "<table border=\"1\" class=\"dataframe\">\n",
       "  <thead>\n",
       "    <tr style=\"text-align: right;\">\n",
       "      <th></th>\n",
       "      <th>Date</th>\n",
       "      <th>Open</th>\n",
       "      <th>High</th>\n",
       "      <th>Low</th>\n",
       "      <th>Close</th>\n",
       "      <th>Adj Close</th>\n",
       "      <th>Volume</th>\n",
       "    </tr>\n",
       "  </thead>\n",
       "  <tbody>\n",
       "    <tr>\n",
       "      <th>0</th>\n",
       "      <td>2017-06-13</td>\n",
       "      <td>45140</td>\n",
       "      <td>45620</td>\n",
       "      <td>45140</td>\n",
       "      <td>45400</td>\n",
       "      <td>39327.17188</td>\n",
       "      <td>8624900</td>\n",
       "    </tr>\n",
       "    <tr>\n",
       "      <th>1</th>\n",
       "      <td>2017-06-14</td>\n",
       "      <td>45800</td>\n",
       "      <td>46060</td>\n",
       "      <td>45240</td>\n",
       "      <td>45360</td>\n",
       "      <td>39292.51172</td>\n",
       "      <td>10166700</td>\n",
       "    </tr>\n",
       "    <tr>\n",
       "      <th>2</th>\n",
       "      <td>2017-06-15</td>\n",
       "      <td>45680</td>\n",
       "      <td>45920</td>\n",
       "      <td>45180</td>\n",
       "      <td>45680</td>\n",
       "      <td>39569.71484</td>\n",
       "      <td>9657000</td>\n",
       "    </tr>\n",
       "    <tr>\n",
       "      <th>3</th>\n",
       "      <td>2017-06-16</td>\n",
       "      <td>45500</td>\n",
       "      <td>45940</td>\n",
       "      <td>45460</td>\n",
       "      <td>45580</td>\n",
       "      <td>39483.08203</td>\n",
       "      <td>17403450</td>\n",
       "    </tr>\n",
       "    <tr>\n",
       "      <th>4</th>\n",
       "      <td>2017-06-19</td>\n",
       "      <td>45580</td>\n",
       "      <td>46560</td>\n",
       "      <td>45560</td>\n",
       "      <td>46560</td>\n",
       "      <td>40332.00391</td>\n",
       "      <td>11303900</td>\n",
       "    </tr>\n",
       "  </tbody>\n",
       "</table>\n",
       "</div>"
      ],
      "text/plain": [
       "         Date   Open   High    Low  Close    Adj Close    Volume\n",
       "0  2017-06-13  45140  45620  45140  45400  39327.17188   8624900\n",
       "1  2017-06-14  45800  46060  45240  45360  39292.51172  10166700\n",
       "2  2017-06-15  45680  45920  45180  45680  39569.71484   9657000\n",
       "3  2017-06-16  45500  45940  45460  45580  39483.08203  17403450\n",
       "4  2017-06-19  45580  46560  45560  46560  40332.00391  11303900"
      ]
     },
     "execution_count": 14,
     "metadata": {},
     "output_type": "execute_result"
    }
   ],
   "source": [
    "data = pd.read_csv('samsung_5y.csv')\n",
    "data.head()"
   ]
  },
  {
   "cell_type": "code",
   "execution_count": 15,
   "id": "47a5563a",
   "metadata": {},
   "outputs": [],
   "source": [
    "# deeprunning mid price\n",
    "high_prices = data['High'].values\n",
    "low_prices = data['Low'].values\n",
    "mid_prices = (high_prices + low_prices)/2"
   ]
  },
  {
   "cell_type": "code",
   "execution_count": 16,
   "id": "9fd7bbe2",
   "metadata": {},
   "outputs": [],
   "source": [
    "# window 사이즈 아래는 50을 기준으로 잡고, 50 + 1로 하나씩 늘려간다.\n",
    "seq_len = 50\n",
    "sequence_length = seq_len + 1\n",
    "\n",
    "result = []\n",
    "for index in range(len(mid_prices) - sequence_length):\n",
    "    result.append(mid_prices[index: index + sequence_length])"
   ]
  },
  {
   "cell_type": "code",
   "execution_count": 17,
   "id": "b85a41ff",
   "metadata": {},
   "outputs": [
    {
     "data": {
      "text/plain": [
       "((1057, 50, 1), (117, 50, 1))"
      ]
     },
     "execution_count": 17,
     "metadata": {},
     "output_type": "execute_result"
    }
   ],
   "source": [
    "#데이터 정규화\n",
    "normalized_data = []\n",
    "for window in result:\n",
    "    normalized_window = [((float(p)/float(window[0]))-1) for p in window]\n",
    "    normalized_data.append(normalized_window)\n",
    "\n",
    "#데이터 정규화 시 null값들은 전부 정리\n",
    "result = np.array(normalized_data)\n",
    "\n",
    "#split train and test data\n",
    "\n",
    "#training data\n",
    "row = int(round(result.shape[0] * 0.9))\n",
    "train = result[:row, :]\n",
    "np.random.shuffle(train)\n",
    "\n",
    "x_train = train[:, :-1]\n",
    "x_train = np.reshape(x_train, (x_train.shape[0], x_train.shape[1], 1))\n",
    "y_train = train[:, -1]\n",
    "\n",
    "x_test = result[row:, :-1]\n",
    "x_test = np.reshape(x_test, (x_test.shape[0], x_test.shape[1], 1))\n",
    "y_test = result[row:, -1]\n",
    "\n",
    "x_train.shape, x_test.shape"
   ]
  },
  {
   "cell_type": "code",
   "execution_count": 18,
   "id": "e2fd45bd",
   "metadata": {},
   "outputs": [
    {
     "name": "stdout",
     "output_type": "stream",
     "text": [
      "Model: \"sequential\"\n",
      "_________________________________________________________________\n",
      " Layer (type)                Output Shape              Param #   \n",
      "=================================================================\n",
      " lstm (LSTM)                 (None, 50, 50)            10400     \n",
      "                                                                 \n",
      " lstm_1 (LSTM)               (None, 64)                29440     \n",
      "                                                                 \n",
      " dense (Dense)               (None, 1)                 65        \n",
      "                                                                 \n",
      "=================================================================\n",
      "Total params: 39,905\n",
      "Trainable params: 39,905\n",
      "Non-trainable params: 0\n",
      "_________________________________________________________________\n"
     ]
    }
   ],
   "source": [
    "#Build a Model\n",
    "model = Sequential()\n",
    "\n",
    "model.add(LSTM(50, return_sequences=True, input_shape=(50,1)))\n",
    "\n",
    "model.add(LSTM(64, return_sequences=False))\n",
    "\n",
    "model.add(Dense(1, activation='linear'))\n",
    "\n",
    "model.compile(loss='mse', optimizer='rmsprop')\n",
    "\n",
    "model.summary()"
   ]
  },
  {
   "cell_type": "code",
   "execution_count": 22,
   "id": "936db24a",
   "metadata": {},
   "outputs": [
    {
     "name": "stdout",
     "output_type": "stream",
     "text": [
      "Epoch 1/20\n",
      "106/106 [==============================] - 6s 28ms/step - loss: 0.0017 - val_loss: 2.4924e-04\n",
      "Epoch 2/20\n",
      "106/106 [==============================] - 2s 20ms/step - loss: 9.6814e-04 - val_loss: 3.6364e-04\n",
      "Epoch 3/20\n",
      "106/106 [==============================] - 2s 20ms/step - loss: 7.0857e-04 - val_loss: 0.0015\n",
      "Epoch 4/20\n",
      "106/106 [==============================] - 2s 20ms/step - loss: 6.1531e-04 - val_loss: 2.4000e-04\n",
      "Epoch 5/20\n",
      "106/106 [==============================] - 2s 21ms/step - loss: 4.8674e-04 - val_loss: 1.6257e-04\n",
      "Epoch 6/20\n",
      "106/106 [==============================] - 2s 21ms/step - loss: 3.8635e-04 - val_loss: 2.3440e-04\n",
      "Epoch 7/20\n",
      "106/106 [==============================] - 2s 21ms/step - loss: 3.5177e-04 - val_loss: 1.7573e-04\n",
      "Epoch 8/20\n",
      "106/106 [==============================] - 2s 21ms/step - loss: 3.3885e-04 - val_loss: 1.3866e-04\n",
      "Epoch 9/20\n",
      "106/106 [==============================] - 2s 20ms/step - loss: 3.1682e-04 - val_loss: 1.4076e-04\n",
      "Epoch 10/20\n",
      "106/106 [==============================] - 2s 21ms/step - loss: 3.0791e-04 - val_loss: 1.6263e-04\n",
      "Epoch 11/20\n",
      "106/106 [==============================] - 2s 20ms/step - loss: 2.9270e-04 - val_loss: 1.7362e-04\n",
      "Epoch 12/20\n",
      "106/106 [==============================] - 2s 21ms/step - loss: 3.1845e-04 - val_loss: 1.2458e-04\n",
      "Epoch 13/20\n",
      "106/106 [==============================] - 2s 21ms/step - loss: 2.9820e-04 - val_loss: 2.1900e-04\n",
      "Epoch 14/20\n",
      "106/106 [==============================] - 2s 20ms/step - loss: 2.7506e-04 - val_loss: 1.3668e-04\n",
      "Epoch 15/20\n",
      "106/106 [==============================] - 2s 21ms/step - loss: 2.9241e-04 - val_loss: 1.6052e-04\n",
      "Epoch 16/20\n",
      "106/106 [==============================] - 2s 21ms/step - loss: 2.8926e-04 - val_loss: 1.3120e-04\n",
      "Epoch 17/20\n",
      "106/106 [==============================] - 2s 21ms/step - loss: 2.8361e-04 - val_loss: 3.3502e-04\n",
      "Epoch 18/20\n",
      "106/106 [==============================] - 2s 21ms/step - loss: 2.9966e-04 - val_loss: 1.1040e-04\n",
      "Epoch 19/20\n",
      "106/106 [==============================] - 2s 20ms/step - loss: 2.9925e-04 - val_loss: 1.5390e-04\n",
      "Epoch 20/20\n",
      "106/106 [==============================] - 2s 21ms/step - loss: 2.7293e-04 - val_loss: 1.4008e-04\n"
     ]
    },
    {
     "data": {
      "text/plain": [
       "<keras.callbacks.History at 0x2481db77880>"
      ]
     },
     "execution_count": 22,
     "metadata": {},
     "output_type": "execute_result"
    }
   ],
   "source": [
    "model.fit(x_train, y_train,\n",
    "    validation_data=(x_test, y_test),\n",
    "    batch_size=10,\n",
    "    epochs=20)"
   ]
  },
  {
   "cell_type": "code",
   "execution_count": 23,
   "id": "4dfab258",
   "metadata": {},
   "outputs": [
    {
     "name": "stdout",
     "output_type": "stream",
     "text": [
      "4/4 [==============================] - 1s 9ms/step\n"
     ]
    },
    {
     "data": {
      "image/png": "[encoded data removed]",
      "text/plain": [
       "<Figure size 432x288 with 1 Axes>"
      ]
     },
     "metadata": {},
     "output_type": "display_data"
    }
   ],
   "source": [
    "#prediction\n",
    "pred = model.predict(x_test)\n",
    "\n",
    "fig = plt.figure(facecolor = 'white')\n",
    "ax = fig.add_subplot(111)\n",
    "ax.plot(y_test, label='True')\n",
    "ax.plot(pred, label='Prediction')\n",
    "ax.legend()\n",
    "plt.show()"
   ]
  }
 ],
 "metadata": {
  "kernelspec": {
   "display_name": "Python 3 (ipykernel)",
   "language": "python",
   "name": "python3"
  },
  "language_info": {
   "codemirror_mode": {
    "name": "ipython",
    "version": 3
   },
   "file_extension": ".py",
   "mimetype": "text/x-python",
   "name": "python",
   "nbconvert_exporter": "python",
   "pygments_lexer": "ipython3",
   "version": "3.8.13"
  }
 },
 "nbformat": 4,
 "nbformat_minor": 5
}
